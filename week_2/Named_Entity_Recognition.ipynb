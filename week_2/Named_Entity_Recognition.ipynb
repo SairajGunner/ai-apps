{
  "cells": [
    {
      "cell_type": "code",
      "execution_count": null,
      "id": "696d3bf3",
      "metadata": {
        "id": "696d3bf3"
      },
      "outputs": [],
      "source": [
        "import transformers\n",
        "\n",
        "#Set to avoid warning messages.\n",
        "transformers.logging.set_verbosity_error()"
      ]
    },
    {
      "cell_type": "markdown",
      "id": "413f0377",
      "metadata": {
        "id": "413f0377"
      },
      "source": [
        "## Running the standard NER Pipeline"
      ]
    },
    {
      "cell_type": "code",
      "execution_count": null,
      "id": "8d4f73e3",
      "metadata": {
        "id": "8d4f73e3"
      },
      "outputs": [],
      "source": [
        "from transformers import pipeline\n",
        "\n",
        "input_text=\"Sam went to California on the 23rd of August. \\\n",
        "There, he visited Google headquarters with John Smith and bought a cap for $23\"\n",
        "\n",
        "basic_ner = pipeline(\"ner\")\n",
        "\n",
        "basic_ner(input_text)\n"
      ]
    },
    {
      "cell_type": "markdown",
      "id": "6267ddcd",
      "metadata": {
        "id": "6267ddcd"
      },
      "source": [
        "## Understanding the model architecture"
      ]
    },
    {
      "cell_type": "code",
      "execution_count": null,
      "id": "b10debb2",
      "metadata": {
        "id": "b10debb2"
      },
      "outputs": [],
      "source": [
        "#Print model architecture\n",
        "print(basic_ner.model)\n"
      ]
    },
    {
      "cell_type": "markdown",
      "id": "774664f5",
      "metadata": {
        "id": "774664f5"
      },
      "source": [
        "## Reviewing model configuration"
      ]
    },
    {
      "cell_type": "code",
      "execution_count": null,
      "id": "ccd0c0e0",
      "metadata": {
        "id": "ccd0c0e0"
      },
      "outputs": [],
      "source": [
        "print(basic_ner.model.config)\n"
      ]
    },
    {
      "cell_type": "markdown",
      "id": "8ce6950f",
      "metadata": {
        "id": "8ce6950f"
      },
      "source": [
        "## Using a Custom Model and tokenizer"
      ]
    },
    {
      "cell_type": "code",
      "execution_count": null,
      "id": "0e9219da",
      "metadata": {
        "id": "0e9219da"
      },
      "outputs": [],
      "source": [
        "from transformers import AutoTokenizer, TFAutoModelForTokenClassification\n",
        "\n",
        "tokenizer = AutoTokenizer.from_pretrained(\"Jean-Baptiste/camembert-ner-with-dates\",\n",
        "                                          from_pt=True)\n",
        "\n",
        "model = TFAutoModelForTokenClassification.from_pretrained(\"Jean-Baptiste/camembert-ner-with-dates\",\n",
        "                                                          from_pt=True)\n",
        "\n",
        "print(model.config.id2label)"
      ]
    },
    {
      "cell_type": "code",
      "execution_count": null,
      "id": "bf11cdfe",
      "metadata": {
        "id": "bf11cdfe"
      },
      "outputs": [],
      "source": [
        "#Prediction\n",
        "enhanced_ner = pipeline('ner',\n",
        "                        model=model,\n",
        "                        tokenizer=tokenizer,\n",
        "                        aggregation_strategy=\"simple\")\n",
        "enhanced_ner(input_text)"
      ]
    },
    {
      "cell_type": "code",
      "execution_count": null,
      "id": "8caf3b89",
      "metadata": {
        "id": "8caf3b89"
      },
      "outputs": [],
      "source": []
    }
  ],
  "metadata": {
    "kernelspec": {
      "display_name": "Python 3 (ipykernel)",
      "language": "python",
      "name": "python3"
    },
    "language_info": {
      "codemirror_mode": {
        "name": "ipython",
        "version": 3
      },
      "file_extension": ".py",
      "mimetype": "text/x-python",
      "name": "python",
      "nbconvert_exporter": "python",
      "pygments_lexer": "ipython3",
      "version": "3.9.15"
    },
    "colab": {
      "provenance": []
    }
  },
  "nbformat": 4,
  "nbformat_minor": 5
}