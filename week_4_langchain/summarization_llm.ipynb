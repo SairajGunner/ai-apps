{
  "nbformat": 4,
  "nbformat_minor": 0,
  "metadata": {
    "colab": {
      "provenance": []
    },
    "kernelspec": {
      "name": "python3",
      "display_name": "Python 3"
    },
    "language_info": {
      "name": "python"
    }
  },
  "cells": [
    {
      "cell_type": "code",
      "execution_count": 1,
      "metadata": {
        "colab": {
          "base_uri": "https://localhost:8080/"
        },
        "id": "4X4ropoRDkYj",
        "outputId": "238c455f-d66b-4cb1-be46-99518079067c"
      },
      "outputs": [
        {
          "output_type": "stream",
          "name": "stdout",
          "text": [
            "Collecting cohere\n",
            "  Downloading cohere-4.47-py3-none-any.whl (52 kB)\n",
            "\u001b[?25l     \u001b[90m━━━━━━━━━━━━━━━━━━━━━━━━━━━━━━━━━━━━━━━━\u001b[0m \u001b[32m0.0/52.3 kB\u001b[0m \u001b[31m?\u001b[0m eta \u001b[36m-:--:--\u001b[0m\r\u001b[2K     \u001b[90m━━━━━━━━━━━━━━━━━━━━━━━━━━━━━━━━━━━━━━━━\u001b[0m \u001b[32m52.3/52.3 kB\u001b[0m \u001b[31m1.8 MB/s\u001b[0m eta \u001b[36m0:00:00\u001b[0m\n",
            "\u001b[?25hCollecting tiktoken\n",
            "  Downloading tiktoken-0.6.0-cp310-cp310-manylinux_2_17_x86_64.manylinux2014_x86_64.whl (1.8 MB)\n",
            "\u001b[2K     \u001b[90m━━━━━━━━━━━━━━━━━━━━━━━━━━━━━━━━━━━━━━━━\u001b[0m \u001b[32m1.8/1.8 MB\u001b[0m \u001b[31m28.3 MB/s\u001b[0m eta \u001b[36m0:00:00\u001b[0m\n",
            "\u001b[?25hCollecting openai\n",
            "  Downloading openai-1.12.0-py3-none-any.whl (226 kB)\n",
            "\u001b[2K     \u001b[90m━━━━━━━━━━━━━━━━━━━━━━━━━━━━━━━━━━━━━━━━\u001b[0m \u001b[32m226.7/226.7 kB\u001b[0m \u001b[31m22.6 MB/s\u001b[0m eta \u001b[36m0:00:00\u001b[0m\n",
            "\u001b[?25hRequirement already satisfied: aiohttp<4.0,>=3.0 in /usr/local/lib/python3.10/dist-packages (from cohere) (3.9.3)\n",
            "Collecting backoff<3.0,>=2.0 (from cohere)\n",
            "  Downloading backoff-2.2.1-py3-none-any.whl (15 kB)\n",
            "Collecting fastavro<2.0,>=1.8 (from cohere)\n",
            "  Downloading fastavro-1.9.3-cp310-cp310-manylinux_2_17_x86_64.manylinux2014_x86_64.whl (3.1 MB)\n",
            "\u001b[2K     \u001b[90m━━━━━━━━━━━━━━━━━━━━━━━━━━━━━━━━━━━━━━━━\u001b[0m \u001b[32m3.1/3.1 MB\u001b[0m \u001b[31m62.7 MB/s\u001b[0m eta \u001b[36m0:00:00\u001b[0m\n",
            "\u001b[?25hCollecting importlib_metadata<7.0,>=6.0 (from cohere)\n",
            "  Downloading importlib_metadata-6.11.0-py3-none-any.whl (23 kB)\n",
            "Requirement already satisfied: requests<3.0.0,>=2.25.0 in /usr/local/lib/python3.10/dist-packages (from cohere) (2.31.0)\n",
            "Requirement already satisfied: urllib3<3,>=1.26 in /usr/local/lib/python3.10/dist-packages (from cohere) (2.0.7)\n",
            "Requirement already satisfied: regex>=2022.1.18 in /usr/local/lib/python3.10/dist-packages (from tiktoken) (2023.12.25)\n",
            "Requirement already satisfied: anyio<5,>=3.5.0 in /usr/local/lib/python3.10/dist-packages (from openai) (3.7.1)\n",
            "Requirement already satisfied: distro<2,>=1.7.0 in /usr/lib/python3/dist-packages (from openai) (1.7.0)\n",
            "Collecting httpx<1,>=0.23.0 (from openai)\n",
            "  Downloading httpx-0.26.0-py3-none-any.whl (75 kB)\n",
            "\u001b[2K     \u001b[90m━━━━━━━━━━━━━━━━━━━━━━━━━━━━━━━━━━━━━━━━\u001b[0m \u001b[32m75.9/75.9 kB\u001b[0m \u001b[31m8.1 MB/s\u001b[0m eta \u001b[36m0:00:00\u001b[0m\n",
            "\u001b[?25hRequirement already satisfied: pydantic<3,>=1.9.0 in /usr/local/lib/python3.10/dist-packages (from openai) (2.6.1)\n",
            "Requirement already satisfied: sniffio in /usr/local/lib/python3.10/dist-packages (from openai) (1.3.0)\n",
            "Requirement already satisfied: tqdm>4 in /usr/local/lib/python3.10/dist-packages (from openai) (4.66.1)\n",
            "Requirement already satisfied: typing-extensions<5,>=4.7 in /usr/local/lib/python3.10/dist-packages (from openai) (4.9.0)\n",
            "Requirement already satisfied: aiosignal>=1.1.2 in /usr/local/lib/python3.10/dist-packages (from aiohttp<4.0,>=3.0->cohere) (1.3.1)\n",
            "Requirement already satisfied: attrs>=17.3.0 in /usr/local/lib/python3.10/dist-packages (from aiohttp<4.0,>=3.0->cohere) (23.2.0)\n",
            "Requirement already satisfied: frozenlist>=1.1.1 in /usr/local/lib/python3.10/dist-packages (from aiohttp<4.0,>=3.0->cohere) (1.4.1)\n",
            "Requirement already satisfied: multidict<7.0,>=4.5 in /usr/local/lib/python3.10/dist-packages (from aiohttp<4.0,>=3.0->cohere) (6.0.5)\n",
            "Requirement already satisfied: yarl<2.0,>=1.0 in /usr/local/lib/python3.10/dist-packages (from aiohttp<4.0,>=3.0->cohere) (1.9.4)\n",
            "Requirement already satisfied: async-timeout<5.0,>=4.0 in /usr/local/lib/python3.10/dist-packages (from aiohttp<4.0,>=3.0->cohere) (4.0.3)\n",
            "Requirement already satisfied: idna>=2.8 in /usr/local/lib/python3.10/dist-packages (from anyio<5,>=3.5.0->openai) (3.6)\n",
            "Requirement already satisfied: exceptiongroup in /usr/local/lib/python3.10/dist-packages (from anyio<5,>=3.5.0->openai) (1.2.0)\n",
            "Requirement already satisfied: certifi in /usr/local/lib/python3.10/dist-packages (from httpx<1,>=0.23.0->openai) (2024.2.2)\n",
            "Collecting httpcore==1.* (from httpx<1,>=0.23.0->openai)\n",
            "  Downloading httpcore-1.0.2-py3-none-any.whl (76 kB)\n",
            "\u001b[2K     \u001b[90m━━━━━━━━━━━━━━━━━━━━━━━━━━━━━━━━━━━━━━━━\u001b[0m \u001b[32m76.9/76.9 kB\u001b[0m \u001b[31m8.7 MB/s\u001b[0m eta \u001b[36m0:00:00\u001b[0m\n",
            "\u001b[?25hCollecting h11<0.15,>=0.13 (from httpcore==1.*->httpx<1,>=0.23.0->openai)\n",
            "  Downloading h11-0.14.0-py3-none-any.whl (58 kB)\n",
            "\u001b[2K     \u001b[90m━━━━━━━━━━━━━━━━━━━━━━━━━━━━━━━━━━━━━━━━\u001b[0m \u001b[32m58.3/58.3 kB\u001b[0m \u001b[31m6.9 MB/s\u001b[0m eta \u001b[36m0:00:00\u001b[0m\n",
            "\u001b[?25hRequirement already satisfied: zipp>=0.5 in /usr/local/lib/python3.10/dist-packages (from importlib_metadata<7.0,>=6.0->cohere) (3.17.0)\n",
            "Requirement already satisfied: annotated-types>=0.4.0 in /usr/local/lib/python3.10/dist-packages (from pydantic<3,>=1.9.0->openai) (0.6.0)\n",
            "Requirement already satisfied: pydantic-core==2.16.2 in /usr/local/lib/python3.10/dist-packages (from pydantic<3,>=1.9.0->openai) (2.16.2)\n",
            "Requirement already satisfied: charset-normalizer<4,>=2 in /usr/local/lib/python3.10/dist-packages (from requests<3.0.0,>=2.25.0->cohere) (3.3.2)\n",
            "Installing collected packages: importlib_metadata, h11, fastavro, backoff, tiktoken, httpcore, httpx, cohere, openai\n",
            "  Attempting uninstall: importlib_metadata\n",
            "    Found existing installation: importlib-metadata 7.0.1\n",
            "    Uninstalling importlib-metadata-7.0.1:\n",
            "      Successfully uninstalled importlib-metadata-7.0.1\n",
            "Successfully installed backoff-2.2.1 cohere-4.47 fastavro-1.9.3 h11-0.14.0 httpcore-1.0.2 httpx-0.26.0 importlib_metadata-6.11.0 openai-1.12.0 tiktoken-0.6.0\n",
            "Collecting langchain\n",
            "  Downloading langchain-0.1.6-py3-none-any.whl (811 kB)\n",
            "\u001b[2K     \u001b[90m━━━━━━━━━━━━━━━━━━━━━━━━━━━━━━━━━━━━━━━━\u001b[0m \u001b[32m811.8/811.8 kB\u001b[0m \u001b[31m7.3 MB/s\u001b[0m eta \u001b[36m0:00:00\u001b[0m\n",
            "\u001b[?25hRequirement already satisfied: PyYAML>=5.3 in /usr/local/lib/python3.10/dist-packages (from langchain) (6.0.1)\n",
            "Requirement already satisfied: SQLAlchemy<3,>=1.4 in /usr/local/lib/python3.10/dist-packages (from langchain) (2.0.25)\n",
            "Requirement already satisfied: aiohttp<4.0.0,>=3.8.3 in /usr/local/lib/python3.10/dist-packages (from langchain) (3.9.3)\n",
            "Requirement already satisfied: async-timeout<5.0.0,>=4.0.0 in /usr/local/lib/python3.10/dist-packages (from langchain) (4.0.3)\n",
            "Collecting dataclasses-json<0.7,>=0.5.7 (from langchain)\n",
            "  Downloading dataclasses_json-0.6.4-py3-none-any.whl (28 kB)\n",
            "Collecting jsonpatch<2.0,>=1.33 (from langchain)\n",
            "  Downloading jsonpatch-1.33-py2.py3-none-any.whl (12 kB)\n",
            "Collecting langchain-community<0.1,>=0.0.18 (from langchain)\n",
            "  Downloading langchain_community-0.0.19-py3-none-any.whl (1.6 MB)\n",
            "\u001b[2K     \u001b[90m━━━━━━━━━━━━━━━━━━━━━━━━━━━━━━━━━━━━━━━━\u001b[0m \u001b[32m1.6/1.6 MB\u001b[0m \u001b[31m13.3 MB/s\u001b[0m eta \u001b[36m0:00:00\u001b[0m\n",
            "\u001b[?25hCollecting langchain-core<0.2,>=0.1.22 (from langchain)\n",
            "  Downloading langchain_core-0.1.22-py3-none-any.whl (239 kB)\n",
            "\u001b[2K     \u001b[90m━━━━━━━━━━━━━━━━━━━━━━━━━━━━━━━━━━━━━━━━\u001b[0m \u001b[32m239.4/239.4 kB\u001b[0m \u001b[31m13.0 MB/s\u001b[0m eta \u001b[36m0:00:00\u001b[0m\n",
            "\u001b[?25hCollecting langsmith<0.1,>=0.0.83 (from langchain)\n",
            "  Downloading langsmith-0.0.90-py3-none-any.whl (55 kB)\n",
            "\u001b[2K     \u001b[90m━━━━━━━━━━━━━━━━━━━━━━━━━━━━━━━━━━━━━━━━\u001b[0m \u001b[32m55.7/55.7 kB\u001b[0m \u001b[31m4.7 MB/s\u001b[0m eta \u001b[36m0:00:00\u001b[0m\n",
            "\u001b[?25hRequirement already satisfied: numpy<2,>=1 in /usr/local/lib/python3.10/dist-packages (from langchain) (1.23.5)\n",
            "Requirement already satisfied: pydantic<3,>=1 in /usr/local/lib/python3.10/dist-packages (from langchain) (2.6.1)\n",
            "Requirement already satisfied: requests<3,>=2 in /usr/local/lib/python3.10/dist-packages (from langchain) (2.31.0)\n",
            "Requirement already satisfied: tenacity<9.0.0,>=8.1.0 in /usr/local/lib/python3.10/dist-packages (from langchain) (8.2.3)\n",
            "Requirement already satisfied: aiosignal>=1.1.2 in /usr/local/lib/python3.10/dist-packages (from aiohttp<4.0.0,>=3.8.3->langchain) (1.3.1)\n",
            "Requirement already satisfied: attrs>=17.3.0 in /usr/local/lib/python3.10/dist-packages (from aiohttp<4.0.0,>=3.8.3->langchain) (23.2.0)\n",
            "Requirement already satisfied: frozenlist>=1.1.1 in /usr/local/lib/python3.10/dist-packages (from aiohttp<4.0.0,>=3.8.3->langchain) (1.4.1)\n",
            "Requirement already satisfied: multidict<7.0,>=4.5 in /usr/local/lib/python3.10/dist-packages (from aiohttp<4.0.0,>=3.8.3->langchain) (6.0.5)\n",
            "Requirement already satisfied: yarl<2.0,>=1.0 in /usr/local/lib/python3.10/dist-packages (from aiohttp<4.0.0,>=3.8.3->langchain) (1.9.4)\n",
            "Collecting marshmallow<4.0.0,>=3.18.0 (from dataclasses-json<0.7,>=0.5.7->langchain)\n",
            "  Downloading marshmallow-3.20.2-py3-none-any.whl (49 kB)\n",
            "\u001b[2K     \u001b[90m━━━━━━━━━━━━━━━━━━━━━━━━━━━━━━━━━━━━━━━━\u001b[0m \u001b[32m49.4/49.4 kB\u001b[0m \u001b[31m6.1 MB/s\u001b[0m eta \u001b[36m0:00:00\u001b[0m\n",
            "\u001b[?25hCollecting typing-inspect<1,>=0.4.0 (from dataclasses-json<0.7,>=0.5.7->langchain)\n",
            "  Downloading typing_inspect-0.9.0-py3-none-any.whl (8.8 kB)\n",
            "Collecting jsonpointer>=1.9 (from jsonpatch<2.0,>=1.33->langchain)\n",
            "  Downloading jsonpointer-2.4-py2.py3-none-any.whl (7.8 kB)\n",
            "Requirement already satisfied: anyio<5,>=3 in /usr/local/lib/python3.10/dist-packages (from langchain-core<0.2,>=0.1.22->langchain) (3.7.1)\n",
            "Collecting langsmith<0.1,>=0.0.83 (from langchain)\n",
            "  Downloading langsmith-0.0.87-py3-none-any.whl (55 kB)\n",
            "\u001b[2K     \u001b[90m━━━━━━━━━━━━━━━━━━━━━━━━━━━━━━━━━━━━━━━━\u001b[0m \u001b[32m55.4/55.4 kB\u001b[0m \u001b[31m5.3 MB/s\u001b[0m eta \u001b[36m0:00:00\u001b[0m\n",
            "\u001b[?25hRequirement already satisfied: packaging<24.0,>=23.2 in /usr/local/lib/python3.10/dist-packages (from langchain-core<0.2,>=0.1.22->langchain) (23.2)\n",
            "Requirement already satisfied: annotated-types>=0.4.0 in /usr/local/lib/python3.10/dist-packages (from pydantic<3,>=1->langchain) (0.6.0)\n",
            "Requirement already satisfied: pydantic-core==2.16.2 in /usr/local/lib/python3.10/dist-packages (from pydantic<3,>=1->langchain) (2.16.2)\n",
            "Requirement already satisfied: typing-extensions>=4.6.1 in /usr/local/lib/python3.10/dist-packages (from pydantic<3,>=1->langchain) (4.9.0)\n",
            "Requirement already satisfied: charset-normalizer<4,>=2 in /usr/local/lib/python3.10/dist-packages (from requests<3,>=2->langchain) (3.3.2)\n",
            "Requirement already satisfied: idna<4,>=2.5 in /usr/local/lib/python3.10/dist-packages (from requests<3,>=2->langchain) (3.6)\n",
            "Requirement already satisfied: urllib3<3,>=1.21.1 in /usr/local/lib/python3.10/dist-packages (from requests<3,>=2->langchain) (2.0.7)\n",
            "Requirement already satisfied: certifi>=2017.4.17 in /usr/local/lib/python3.10/dist-packages (from requests<3,>=2->langchain) (2024.2.2)\n",
            "Requirement already satisfied: greenlet!=0.4.17 in /usr/local/lib/python3.10/dist-packages (from SQLAlchemy<3,>=1.4->langchain) (3.0.3)\n",
            "Requirement already satisfied: sniffio>=1.1 in /usr/local/lib/python3.10/dist-packages (from anyio<5,>=3->langchain-core<0.2,>=0.1.22->langchain) (1.3.0)\n",
            "Requirement already satisfied: exceptiongroup in /usr/local/lib/python3.10/dist-packages (from anyio<5,>=3->langchain-core<0.2,>=0.1.22->langchain) (1.2.0)\n",
            "Collecting mypy-extensions>=0.3.0 (from typing-inspect<1,>=0.4.0->dataclasses-json<0.7,>=0.5.7->langchain)\n",
            "  Downloading mypy_extensions-1.0.0-py3-none-any.whl (4.7 kB)\n",
            "Installing collected packages: mypy-extensions, marshmallow, jsonpointer, typing-inspect, jsonpatch, langsmith, dataclasses-json, langchain-core, langchain-community, langchain\n",
            "Successfully installed dataclasses-json-0.6.4 jsonpatch-1.33 jsonpointer-2.4 langchain-0.1.6 langchain-community-0.0.19 langchain-core-0.1.22 langsmith-0.0.87 marshmallow-3.20.2 mypy-extensions-1.0.0 typing-inspect-0.9.0\n"
          ]
        }
      ],
      "source": [
        "!pip install cohere tiktoken openai\n",
        "!pip install langchain"
      ]
    },
    {
      "cell_type": "code",
      "source": [
        "!pip install python-dotenv"
      ],
      "metadata": {
        "colab": {
          "base_uri": "https://localhost:8080/"
        },
        "id": "7FEhBvnYDros",
        "outputId": "569beae6-6944-4cf4-a725-7aaca98d5f31"
      },
      "execution_count": 2,
      "outputs": [
        {
          "output_type": "stream",
          "name": "stdout",
          "text": [
            "Collecting python-dotenv\n",
            "  Downloading python_dotenv-1.0.1-py3-none-any.whl (19 kB)\n",
            "Installing collected packages: python-dotenv\n",
            "Successfully installed python-dotenv-1.0.1\n"
          ]
        }
      ]
    },
    {
      "cell_type": "code",
      "source": [
        "import openai\n",
        "import os\n",
        "from dotenv import load_dotenv, find_dotenv"
      ],
      "metadata": {
        "id": "MDzjogmrDxGQ"
      },
      "execution_count": 3,
      "outputs": []
    },
    {
      "cell_type": "code",
      "source": [
        "_ = load_dotenv(find_dotenv())"
      ],
      "metadata": {
        "id": "ngJXn_4HD18K"
      },
      "execution_count": 7,
      "outputs": []
    },
    {
      "cell_type": "code",
      "source": [
        "openai.api_key = os.environ[\"OPENAI_API_KEY\"]"
      ],
      "metadata": {
        "id": "0NYK81ZID31_"
      },
      "execution_count": 8,
      "outputs": []
    },
    {
      "cell_type": "code",
      "source": [
        "import pandas as pd"
      ],
      "metadata": {
        "id": "2pRj39PxD-4S"
      },
      "execution_count": 9,
      "outputs": []
    },
    {
      "cell_type": "code",
      "source": [
        "pd.set_option(\"display.max_colwidth\", None)\n",
        "file_name = \"fictitious_movie_data.csv\"\n",
        "df = pd.read_csv(file_name)"
      ],
      "metadata": {
        "id": "g1DBJ4nAFHcQ"
      },
      "execution_count": 10,
      "outputs": []
    },
    {
      "cell_type": "code",
      "source": [
        "df.head()"
      ],
      "metadata": {
        "colab": {
          "base_uri": "https://localhost:8080/",
          "height": 1000
        },
        "id": "oYw5jYCaFYA1",
        "outputId": "e2a631f9-113a-46bc-a89c-f992e41782a9"
      },
      "execution_count": 11,
      "outputs": [
        {
          "output_type": "execute_result",
          "data": {
            "text/plain": [
              "        Movie Title  \\\n",
              "0  Galactic Odyssey   \n",
              "1    Love in Venice   \n",
              "2     Quantum Nexus   \n",
              "3   Midnight Mirage   \n",
              "4     The Enchanted   \n",
              "\n",
              "                                                                                                                                          Description  \\\n",
              "0        In a future where humanity has colonized distant planets, a space explorer embarks on a perilous journey to save Earth from an alien threat.   \n",
              "1            A romantic drama set against the backdrop of the picturesque canals of Venice, where two strangers find love in the most unexpected way.   \n",
              "2            A mind-bending thriller about a scientist who discovers a way to enter alternate realities, but soon realizes the consequences are dire.   \n",
              "3        A neo-noir mystery centered around a detective who gets entangled in a web of deception and danger as he investigates a high-profile murder.   \n",
              "4  An enchanting fantasy adventure following a young hero's quest to rescue a kidnapped princess from a mythical realm filled with magical creatures.   \n",
              "\n",
              "            Director  Star Rating  \\\n",
              "0        Alex Mercer          4.5   \n",
              "1    Sophia Anderson          4.2   \n",
              "2  Michael Blackwood          4.7   \n",
              "3   Jessica Williams          4.4   \n",
              "4  Benjamin Thompson          4.8   \n",
              "\n",
              "                                                                                                                              Critic Review 1  \\\n",
              "0                        Galactic Odyssey delivers stunning visuals and a captivating storyline, making it a must-see for sci-fi enthusiasts.   \n",
              "1                             Love in Venice is a visually enchanting film that beautifully captures the essence of love and the city itself.   \n",
              "2  Quantum Nexus keeps you guessing till the very end, with its intricate plot and mind-bending twists that'll leave you questioning reality.   \n",
              "3      Midnight Mirage's moody atmosphere and intricate plot nods to classic film noir while delivering a fresh and modern take on the genre.   \n",
              "4     The Enchanted is a delightful and whimsical tale that captures the imagination and brings to life a world of fantasy like never before.   \n",
              "\n",
              "                                                                                                                                          Critic Review 2  \\\n",
              "0                                          An epic space opera that combines action and emotion flawlessly, leaving audiences on the edge of their seats.   \n",
              "1                                           A heartfelt story that reminds us of the magic of chance encounters and the power of love to transform lives.   \n",
              "2             A gripping exploration of the moral dilemmas that arise when technology grants us god-like powers, presented in a visually stunning manner.   \n",
              "3           The film keeps you guessing with its complex characters and labyrinthine plot twists, delivering a satisfying blend of suspense and intrigue.   \n",
              "4  A magical journey that's perfect for all ages, filled with heartwarming moments, breathtaking visuals, and a strong message of courage and friendship.   \n",
              "\n",
              "                                                                                                                         Critic Review 3  \\\n",
              "0     The interstellar adventure of a lifetime, with heartwarming moments and intense action sequences that keep you engaged throughout.   \n",
              "1            The chemistry between the leads is electric, and the Venetian scenery adds an extra layer of charm to this touching romance   \n",
              "2       A rollercoaster of tension and intrigue, Quantum Nexus is a testament to the potential dangers of unchecked scientific ambition.   \n",
              "3  A stylish and suspenseful journey through the shadows of crime and corruption, with standout performances and a compelling narrative.   \n",
              "4     A charming blend of action, humor, and wonder, The Enchanted transports you to a realm where dreams come true and heroes are born.   \n",
              "\n",
              "                                                                                                                                                                                                                                                                                                                                                                                                                                                                                                                                                                                                                                                                                                                                                                                                                                                                                                                                                                                                                                                                                                                                                                                                                                                                                                                                                                                                                                                                                                                                                                                                                                                                                                                                                                                                                                                                                                                                                                                                                                                                                                                                                                                                                                                                                                                                                                                                                                                                                                                                                                                                                                                                                                                                                                                                                                                                                                                                                                                                                                                                                                                                                                                                                                                                                                                                                                                                                                                                                                                                                                                                                                                                                  Synopsis  \n",
              "0                                                                                                                                                                                                                                                                                                                                                                                                                                                                                                                                                                                                                                                                                                                                                                                                                                                                                              In the year 3078, amidst the backdrop of a sprawling intergalactic civilization, Captain Lana Veridi and her diverse crew aboard the starship Odyssey are renowned for exploring uncharted territories of space. However, their latest mission isn’t one of discovery, but of desperate necessity. A mysterious cosmic event known as The Pulse has begun to distort time and reality on Earth, causing it to merge and split with alternate realities.\\n\\nThe Odyssey is tasked with traveling to the edge of the known universe to find the Celestial Compass, a legendary artifact said to possess the power to realign time and dimensions. Skeptical but undeterred, Captain Veridi embarks on the mission, aware of the rising stakes. As Earth's very existence begins to crumble, visions of alternate Earths become more frequent, giving glimpses of both wonders and horrors.\\n\\nAs the crew journey deeper into the unknown, they encounter remnants of ancient civilizations, cosmic entities, and clues pointing to a long-forgotten empire that once attempted to harness the power of the Celestial Compass, only to vanish without a trace. Along the way, the crew must confront their own alternate selves, facing choices and paths they once took or might have taken, challenging their beliefs and convictions.\\n\\nRomance blossoms between Lana and the ship’s historian, Dr. Elian Korr, who harbors secrets of his own. A former member of a sect devoted to protecting the secrets of the Celestial Compass, Elian struggles with his loyalties, eventually revealing that the Compass isn’t just a tool, but a sentient being that chooses its wielder.\\n\\nWhen they finally locate the Compass at the nexus of a cosmic storm, it communicates telepathically with Lana, revealing that The Pulse was a call for help, a beacon sent out to find someone worthy of wielding its power. But the choice comes with a price: to save her Earth, Lana must let go of the personal memories that anchor her to it.\\n\\nAs the climax unfolds, Lana, with the support of Elian and her crew, decides to merge her consciousness with the Compass. She becomes the beacon that realigns Earth's reality, sacrificing her memories to save humanity.\\n\\nThe film closes with a bittersweet victory. Earth is saved, with its inhabitants none the wiser of the crisis they averted. Aboard the Odyssey, the crew mourns the loss of the Lana they knew, even as they welcome her back. The Captain has no recollection of her past but is surrounded by a crew that promises to help her build new memories.\\n\\nGalactic Odyssey is a cosmic tale of sacrifice, love, and the intricate dance of destiny, set against the vast, awe-inspiring backdrop of the universe.  \n",
              "1                                                                                                                                                                                                                                                                                                                                                                                                                                                                                                                                                                                                                                                                                                                          Set amidst the enchanting canals and historic palazzos of Venice, Love in Venice is a contemporary romantic drama that weaves together the lives of two strangers bound by fate and a shared past.\\n\\nIsabella Martelli, a talented violinist, returns to her hometown of Venice after a decade of performing around the world. The weight of her family's legacy, the renowned Martelli Orchestra, rests on her shoulders as she prepares for a grand concert meant to revive the slowly fading orchestra and save their historic concert hall from being sold to a developer.\\n\\nEnter Alexei Ivanov, a world-famous architect known for his modernist creations, but with a secret passion for historical restorations. He's in Venice on a lucrative assignment to redesign the Venetian waterfront, which includes the Martelli's ancestral concert hall. Despite the seemingly opposing goals, there's an undeniable chemistry between Isabella and Alexei from their first accidental meeting at Piazza San Marco.\\n\\nAs they spend more time together, the two uncover a series of letters from the 1800s in a hidden chamber within the concert hall. The letters reveal a passionate love story between a Russian writer and an Italian violinist, who, against all odds, shared a forbidden romance during Venice's golden age. This historical tale mirrors the budding romance between Isabella and Alexei, making them question the significance of fate in their lives.\\n\\nYet, the looming concert and the impending sale of the concert hall strain their relationship. Isabella, feeling the pressure, immerses herself into the music, seeking solace in her violin and the echoes of the past. Alexei, torn between his professional commitment and his growing love for both Isabella and the city, begins to draft a plan that might preserve Venice's history while catering to modern needs.\\n\\nAs the date of the concert draws near, a surprising discovery changes everything: Alexei's ancestral connection to the Russian writer from the letters. This revelation deepens their connection, and together they hatch a plan to save the hall and the Martelli legacy.\\n\\nThe climactic scene is the night of the concert. As Isabella plays, the beauty of the music, combined with the community's support, moves the developer to reconsider. Inspired by the newfound historical significance and the passion of the Venetians, he collaborates with Alexei to restore and repurpose the hall, merging past and future.\\n\\nThe film ends with Isabella and Alexei on a gondola, floating through the canals of Venice. The city's shimmering reflections, combined with the strains of a distant violin, hint at a love story that has come full circle, not just for them but for Venice itself.\\n\\nLove in Venice captures the magic of timeless love, the charm of a historic city, and the hope that endures amidst change.  \n",
              "2                                                                                                                                                                                                                                                                                                                                                                                                                                                                                                                                                                                                                                                                                                                                                                                                                                                                                                                                                                                                                                                                                                                                       In the year 2147, Dr. Elara Bishop, a brilliant quantum physicist, makes a groundbreaking discovery: a way to traverse between parallel universes. Her invention, the Quantum Nexus, promises unlimited potential: imagine accessing worlds where diseases were cured, wars were avoided, or lost loved ones still existed. As her invention becomes public knowledge, the world's powers, both political and criminal, become desperate to control it.\\n\\nAmidst the chaos, Elara learns of a universe where Earth faces imminent destruction due to a colossal asteroid impact. As the leaders of her world turn a blind eye, she becomes obsessed with saving this parallel Earth. However, there's a catch; for every major change made in one universe, an equally significant event would inversely impact her own.\\n\\nTeaming up with Max, a rogue agent from the Interdimensional Enforcement Agency, and Lena, her parallel universe counterpart, they set out to divert the asteroid in the alternate Earth. Along the way, the trio confronts adversaries determined to exploit the Quantum Nexus for personal gain. The most formidable of them, the enigmatic Cipher, seems to know more about the Quantum Nexus than even Elara herself.\\n\\nAs they journey across universes, encountering worlds vastly different from their own, Elara grapples with ethical dilemmas. Is it right to change the course of another universe? And what would be the cost to her own world?\\n\\nIn a race against time, as Cipher's nefarious plans unfold, the team realizes that the Quantum Nexus is more than just a machine. It’s a living entity, capable of decisions, emotions, and choosing its wielder. The Nexus reveals to Elara that it has seen potential futures and that Cipher's goal is to merge all universes into one, where he reigns supreme.\\n\\nIn the climax, on the brink of the alternate Earth's destruction, the trio confronts Cipher in a battle that transcends dimensions. Elara, using her bond with the Quantum Nexus, must make a heart-wrenching decision: to save a universe and risk dire repercussions in her own or let a world perish to ensure the safety of her reality.\\n\\nQuantum Nexus is a tale of sacrifice, love, and the interconnectedness of all existences. It asks profound questions about responsibility, the nature of self, and what one might do with the power to alter reality. In the end, Elara's choices redefine what it means to be a hero in a multiverse of endless possibilities  \n",
              "3                                                                                                                                          In the heart of the bustling metropolis, Eris City, there's a legend whispered in the dimly lit alleys and hidden corners – the legend of the Midnight Mirage. The tales speak of a phantom, a silhouette appearing only between the last second of 11:59 PM and the first tick of 12:00 AM. For that singular, ethereal moment, the Mirage can grant you a glimpse of an alternate life – a what if.\\n\\nKara, a journalist in her mid-thirties, struggles with her life choices. She sacrificed love and dreams to care for her ailing mother and chose the stability of her job over pursuing her passion for investigative journalism. But every night, as the clock nears midnight, she finds herself gazing out of her window, yearning for the elusive Midnight Mirage, to see a life where she followed her heart.\\n\\nOne fateful night, as lightning streaks across the sky and rain pours over Eris City, Kara finally sees him – the Midnight Mirage. He's nothing like the tales. He's not a shadow, but a young man, ethereal and luminescent, his features shifting with every blink. Entranced, she rushes down to meet him, and as the clock strikes, he touches her hand. For a fleeting moment, she lives a lifetime: one where she traveled the world, writing expose articles, and where an old flame, Alex, never left her side.\\n\\nWhen she snaps back to reality, she's overwhelmed with a mix of joy and sorrow. While the encounter with the Mirage was brief, the longing it ignited was undeniable. Determined to reclaim her dreams, she begins delving deeper into the enigma of the Midnight Mirage, transforming it into her passion project.\\n\\nBut the more she uncovers, the more she realizes the Mirage is not just a city legend. He's a trapped soul, bound by time and an ancient curse. A love from centuries ago, betrayed and heartbroken, had trapped him in this midnight limbo. The Mirage, whose real name she discovers is Elian, was given a curse where he exists only in that singular moment, forever showing others what they desire but never attaining his own – the release from his eternal suffering.\\n\\nKara, fueled by empathy and her rediscovered investigative vigor, decides to free Elian. Along the way, she reconnects with Alex, and together they decipher old city records, myths, and encrypted love letters to unearth the story of the woman who cursed Elian and find a way to break the enchantment.\\n\\nThe journey is perilous, taking them through the very fabric of time, confronting old city mobsters who wish to use Elian's power, and facing the wrath of a love long scorned. As they near the solution, Kara realizes that releasing Elian might mean losing him forever.\\n\\nThe climax unfolds atop the city's clock tower, where, in a heart-rending sacrifice, Kara and Alex manage to break Elian's curse just as the clock nears midnight. But instead of disappearing, Elian is given one full day – a gift from the universe for the centuries he lost. Kara, Alex, and Elian spend it relishing the beauty of Eris City, celebrating love, life, and second chances.\\n\\nAs the day concludes, Elian fades with the setting sun, leaving Kara with a message: Every midnight, in the space between seconds, I'll think of you.\\n\\nMidnight Mirage is not just a story of urban legends and mythical love, but also about redemption, self-discovery, and the courage to chase one's dreams, even if it leads you through the very corridors of time.  \n",
              "4  In the magical kingdom of Aeloria, Princess Elara has always been admired for her grace, intelligence, and unrivaled beauty. However, her peaceful life takes a sudden turn when she is kidnapped by a dark sorcerer, Malachor, who aims to use her essence to strengthen his dark magic and gain eternal life. With Princess Elara's life hanging by a thread, the kingdom is thrown into chaos, its citizens fearful and its rulers desperate.\\n\\nAs the sun sets over the enchanted forest of Aeloria, a mysterious figure, Liam, witnesses the kidnapping. Liam is a ranger with a mysterious past; he's highly skilled but has always remained a recluse, distancing himself from the kingdom he once called home. Intrigued and touched by Elara's plight, he decides it's time to reforge his broken ties with Aeloria and embarks on a quest to save her.\\n\\nMeanwhile, in Malachor's dark lair, Princess Elara isn't the damsel in distress one would expect. Despite the grim situation, she's calculating and resolute. She learns about her captor's dark plan and realizes that her unique ability to commune with nature can manipulate the very elements of the sorcerer's dark lair. But she needs more time to unlock the full potential of her powers, and time is what she doesn't have.\\n\\nBack in Aeloria, Queen Seraphina, Elara's mother, consults the kingdom’s Oracle, who prophecies that only a partnership of true equality can defeat Malachor. Seraphina, understanding that the prophecy refers not only to physical but also intellectual partnership, sends out messengers to find Liam, whose legendary skills have not gone unnoticed by the royal family over the years.\\n\\nAs Liam fights his way through enchanted forests filled with mystical creatures, solves riddles that guard secret pathways, and defeats Malachor's minions, he slowly realizes his connection to the kingdom and its people. With each hurdle he overcomes, pieces of his own shattered past resurface, forcing him to confront the ghosts that made him a recluse in the first place.\\n\\nElara, sensing her rescue is imminent, successfully manipulates her environment to weaken Malachor's magical barriers. Just as Liam arrives, she breaks the final seal, rendering Malachor vulnerable. However, instead of leaving it to Liam to defeat the sorcerer, she takes an equal part in the battle, combining her powers with his skills to fulfill the Oracle’s prophecy.\\n\\nAs they battle Malachor, their chemistry is palpable, but their focus never wavers. The combination of Elara’s elemental magic and Liam's swordsmanship overwhelms Malachor, culminating in a climactic duel that ends with the sorcerer's defeat. However, they realize that Malachor was only a pawn in a larger cosmic game controlled by darker forces. Elara's essence and Liam's rediscovered connection to Aeloria have awakened ancient powers that were dormant for centuries.\\n\\nReturning to the kingdom as heroes, Elara and Liam realize they're bound by more than just a shared adventure; they're destined to protect Aeloria from looming darker forces. As they stand together, looking over the kingdom from the royal palace, they understand that their partnership, born from equality and mutual respect, is what the kingdom needs to face the threats that lie ahead.\\n\\nThus, \"The Enchanted\" not only offers a tale of love, valor, and mystical wonders but also redefines the norms of traditional fairy tales, presenting a princess and her rescuer as equals and partners. The stage is set for more adventures, but that is a story for another time.  "
            ],
            "text/html": [
              "\n",
              "  <div id=\"df-b20268d1-abcc-4fef-9c8f-a507eb13f78a\" class=\"colab-df-container\">\n",
              "    <div>\n",
              "<style scoped>\n",
              "    .dataframe tbody tr th:only-of-type {\n",
              "        vertical-align: middle;\n",
              "    }\n",
              "\n",
              "    .dataframe tbody tr th {\n",
              "        vertical-align: top;\n",
              "    }\n",
              "\n",
              "    .dataframe thead th {\n",
              "        text-align: right;\n",
              "    }\n",
              "</style>\n",
              "<table border=\"1\" class=\"dataframe\">\n",
              "  <thead>\n",
              "    <tr style=\"text-align: right;\">\n",
              "      <th></th>\n",
              "      <th>Movie Title</th>\n",
              "      <th>Description</th>\n",
              "      <th>Director</th>\n",
              "      <th>Star Rating</th>\n",
              "      <th>Critic Review 1</th>\n",
              "      <th>Critic Review 2</th>\n",
              "      <th>Critic Review 3</th>\n",
              "      <th>Synopsis</th>\n",
              "    </tr>\n",
              "  </thead>\n",
              "  <tbody>\n",
              "    <tr>\n",
              "      <th>0</th>\n",
              "      <td>Galactic Odyssey</td>\n",
              "      <td>In a future where humanity has colonized distant planets, a space explorer embarks on a perilous journey to save Earth from an alien threat.</td>\n",
              "      <td>Alex Mercer</td>\n",
              "      <td>4.5</td>\n",
              "      <td>Galactic Odyssey delivers stunning visuals and a captivating storyline, making it a must-see for sci-fi enthusiasts.</td>\n",
              "      <td>An epic space opera that combines action and emotion flawlessly, leaving audiences on the edge of their seats.</td>\n",
              "      <td>The interstellar adventure of a lifetime, with heartwarming moments and intense action sequences that keep you engaged throughout.</td>\n",
              "      <td>In the year 3078, amidst the backdrop of a sprawling intergalactic civilization, Captain Lana Veridi and her diverse crew aboard the starship Odyssey are renowned for exploring uncharted territories of space. However, their latest mission isn’t one of discovery, but of desperate necessity. A mysterious cosmic event known as The Pulse has begun to distort time and reality on Earth, causing it to merge and split with alternate realities.\\n\\nThe Odyssey is tasked with traveling to the edge of the known universe to find the Celestial Compass, a legendary artifact said to possess the power to realign time and dimensions. Skeptical but undeterred, Captain Veridi embarks on the mission, aware of the rising stakes. As Earth's very existence begins to crumble, visions of alternate Earths become more frequent, giving glimpses of both wonders and horrors.\\n\\nAs the crew journey deeper into the unknown, they encounter remnants of ancient civilizations, cosmic entities, and clues pointing to a long-forgotten empire that once attempted to harness the power of the Celestial Compass, only to vanish without a trace. Along the way, the crew must confront their own alternate selves, facing choices and paths they once took or might have taken, challenging their beliefs and convictions.\\n\\nRomance blossoms between Lana and the ship’s historian, Dr. Elian Korr, who harbors secrets of his own. A former member of a sect devoted to protecting the secrets of the Celestial Compass, Elian struggles with his loyalties, eventually revealing that the Compass isn’t just a tool, but a sentient being that chooses its wielder.\\n\\nWhen they finally locate the Compass at the nexus of a cosmic storm, it communicates telepathically with Lana, revealing that The Pulse was a call for help, a beacon sent out to find someone worthy of wielding its power. But the choice comes with a price: to save her Earth, Lana must let go of the personal memories that anchor her to it.\\n\\nAs the climax unfolds, Lana, with the support of Elian and her crew, decides to merge her consciousness with the Compass. She becomes the beacon that realigns Earth's reality, sacrificing her memories to save humanity.\\n\\nThe film closes with a bittersweet victory. Earth is saved, with its inhabitants none the wiser of the crisis they averted. Aboard the Odyssey, the crew mourns the loss of the Lana they knew, even as they welcome her back. The Captain has no recollection of her past but is surrounded by a crew that promises to help her build new memories.\\n\\nGalactic Odyssey is a cosmic tale of sacrifice, love, and the intricate dance of destiny, set against the vast, awe-inspiring backdrop of the universe.</td>\n",
              "    </tr>\n",
              "    <tr>\n",
              "      <th>1</th>\n",
              "      <td>Love in Venice</td>\n",
              "      <td>A romantic drama set against the backdrop of the picturesque canals of Venice, where two strangers find love in the most unexpected way.</td>\n",
              "      <td>Sophia Anderson</td>\n",
              "      <td>4.2</td>\n",
              "      <td>Love in Venice is a visually enchanting film that beautifully captures the essence of love and the city itself.</td>\n",
              "      <td>A heartfelt story that reminds us of the magic of chance encounters and the power of love to transform lives.</td>\n",
              "      <td>The chemistry between the leads is electric, and the Venetian scenery adds an extra layer of charm to this touching romance</td>\n",
              "      <td>Set amidst the enchanting canals and historic palazzos of Venice, Love in Venice is a contemporary romantic drama that weaves together the lives of two strangers bound by fate and a shared past.\\n\\nIsabella Martelli, a talented violinist, returns to her hometown of Venice after a decade of performing around the world. The weight of her family's legacy, the renowned Martelli Orchestra, rests on her shoulders as she prepares for a grand concert meant to revive the slowly fading orchestra and save their historic concert hall from being sold to a developer.\\n\\nEnter Alexei Ivanov, a world-famous architect known for his modernist creations, but with a secret passion for historical restorations. He's in Venice on a lucrative assignment to redesign the Venetian waterfront, which includes the Martelli's ancestral concert hall. Despite the seemingly opposing goals, there's an undeniable chemistry between Isabella and Alexei from their first accidental meeting at Piazza San Marco.\\n\\nAs they spend more time together, the two uncover a series of letters from the 1800s in a hidden chamber within the concert hall. The letters reveal a passionate love story between a Russian writer and an Italian violinist, who, against all odds, shared a forbidden romance during Venice's golden age. This historical tale mirrors the budding romance between Isabella and Alexei, making them question the significance of fate in their lives.\\n\\nYet, the looming concert and the impending sale of the concert hall strain their relationship. Isabella, feeling the pressure, immerses herself into the music, seeking solace in her violin and the echoes of the past. Alexei, torn between his professional commitment and his growing love for both Isabella and the city, begins to draft a plan that might preserve Venice's history while catering to modern needs.\\n\\nAs the date of the concert draws near, a surprising discovery changes everything: Alexei's ancestral connection to the Russian writer from the letters. This revelation deepens their connection, and together they hatch a plan to save the hall and the Martelli legacy.\\n\\nThe climactic scene is the night of the concert. As Isabella plays, the beauty of the music, combined with the community's support, moves the developer to reconsider. Inspired by the newfound historical significance and the passion of the Venetians, he collaborates with Alexei to restore and repurpose the hall, merging past and future.\\n\\nThe film ends with Isabella and Alexei on a gondola, floating through the canals of Venice. The city's shimmering reflections, combined with the strains of a distant violin, hint at a love story that has come full circle, not just for them but for Venice itself.\\n\\nLove in Venice captures the magic of timeless love, the charm of a historic city, and the hope that endures amidst change.</td>\n",
              "    </tr>\n",
              "    <tr>\n",
              "      <th>2</th>\n",
              "      <td>Quantum Nexus</td>\n",
              "      <td>A mind-bending thriller about a scientist who discovers a way to enter alternate realities, but soon realizes the consequences are dire.</td>\n",
              "      <td>Michael Blackwood</td>\n",
              "      <td>4.7</td>\n",
              "      <td>Quantum Nexus keeps you guessing till the very end, with its intricate plot and mind-bending twists that'll leave you questioning reality.</td>\n",
              "      <td>A gripping exploration of the moral dilemmas that arise when technology grants us god-like powers, presented in a visually stunning manner.</td>\n",
              "      <td>A rollercoaster of tension and intrigue, Quantum Nexus is a testament to the potential dangers of unchecked scientific ambition.</td>\n",
              "      <td>In the year 2147, Dr. Elara Bishop, a brilliant quantum physicist, makes a groundbreaking discovery: a way to traverse between parallel universes. Her invention, the Quantum Nexus, promises unlimited potential: imagine accessing worlds where diseases were cured, wars were avoided, or lost loved ones still existed. As her invention becomes public knowledge, the world's powers, both political and criminal, become desperate to control it.\\n\\nAmidst the chaos, Elara learns of a universe where Earth faces imminent destruction due to a colossal asteroid impact. As the leaders of her world turn a blind eye, she becomes obsessed with saving this parallel Earth. However, there's a catch; for every major change made in one universe, an equally significant event would inversely impact her own.\\n\\nTeaming up with Max, a rogue agent from the Interdimensional Enforcement Agency, and Lena, her parallel universe counterpart, they set out to divert the asteroid in the alternate Earth. Along the way, the trio confronts adversaries determined to exploit the Quantum Nexus for personal gain. The most formidable of them, the enigmatic Cipher, seems to know more about the Quantum Nexus than even Elara herself.\\n\\nAs they journey across universes, encountering worlds vastly different from their own, Elara grapples with ethical dilemmas. Is it right to change the course of another universe? And what would be the cost to her own world?\\n\\nIn a race against time, as Cipher's nefarious plans unfold, the team realizes that the Quantum Nexus is more than just a machine. It’s a living entity, capable of decisions, emotions, and choosing its wielder. The Nexus reveals to Elara that it has seen potential futures and that Cipher's goal is to merge all universes into one, where he reigns supreme.\\n\\nIn the climax, on the brink of the alternate Earth's destruction, the trio confronts Cipher in a battle that transcends dimensions. Elara, using her bond with the Quantum Nexus, must make a heart-wrenching decision: to save a universe and risk dire repercussions in her own or let a world perish to ensure the safety of her reality.\\n\\nQuantum Nexus is a tale of sacrifice, love, and the interconnectedness of all existences. It asks profound questions about responsibility, the nature of self, and what one might do with the power to alter reality. In the end, Elara's choices redefine what it means to be a hero in a multiverse of endless possibilities</td>\n",
              "    </tr>\n",
              "    <tr>\n",
              "      <th>3</th>\n",
              "      <td>Midnight Mirage</td>\n",
              "      <td>A neo-noir mystery centered around a detective who gets entangled in a web of deception and danger as he investigates a high-profile murder.</td>\n",
              "      <td>Jessica Williams</td>\n",
              "      <td>4.4</td>\n",
              "      <td>Midnight Mirage's moody atmosphere and intricate plot nods to classic film noir while delivering a fresh and modern take on the genre.</td>\n",
              "      <td>The film keeps you guessing with its complex characters and labyrinthine plot twists, delivering a satisfying blend of suspense and intrigue.</td>\n",
              "      <td>A stylish and suspenseful journey through the shadows of crime and corruption, with standout performances and a compelling narrative.</td>\n",
              "      <td>In the heart of the bustling metropolis, Eris City, there's a legend whispered in the dimly lit alleys and hidden corners – the legend of the Midnight Mirage. The tales speak of a phantom, a silhouette appearing only between the last second of 11:59 PM and the first tick of 12:00 AM. For that singular, ethereal moment, the Mirage can grant you a glimpse of an alternate life – a what if.\\n\\nKara, a journalist in her mid-thirties, struggles with her life choices. She sacrificed love and dreams to care for her ailing mother and chose the stability of her job over pursuing her passion for investigative journalism. But every night, as the clock nears midnight, she finds herself gazing out of her window, yearning for the elusive Midnight Mirage, to see a life where she followed her heart.\\n\\nOne fateful night, as lightning streaks across the sky and rain pours over Eris City, Kara finally sees him – the Midnight Mirage. He's nothing like the tales. He's not a shadow, but a young man, ethereal and luminescent, his features shifting with every blink. Entranced, she rushes down to meet him, and as the clock strikes, he touches her hand. For a fleeting moment, she lives a lifetime: one where she traveled the world, writing expose articles, and where an old flame, Alex, never left her side.\\n\\nWhen she snaps back to reality, she's overwhelmed with a mix of joy and sorrow. While the encounter with the Mirage was brief, the longing it ignited was undeniable. Determined to reclaim her dreams, she begins delving deeper into the enigma of the Midnight Mirage, transforming it into her passion project.\\n\\nBut the more she uncovers, the more she realizes the Mirage is not just a city legend. He's a trapped soul, bound by time and an ancient curse. A love from centuries ago, betrayed and heartbroken, had trapped him in this midnight limbo. The Mirage, whose real name she discovers is Elian, was given a curse where he exists only in that singular moment, forever showing others what they desire but never attaining his own – the release from his eternal suffering.\\n\\nKara, fueled by empathy and her rediscovered investigative vigor, decides to free Elian. Along the way, she reconnects with Alex, and together they decipher old city records, myths, and encrypted love letters to unearth the story of the woman who cursed Elian and find a way to break the enchantment.\\n\\nThe journey is perilous, taking them through the very fabric of time, confronting old city mobsters who wish to use Elian's power, and facing the wrath of a love long scorned. As they near the solution, Kara realizes that releasing Elian might mean losing him forever.\\n\\nThe climax unfolds atop the city's clock tower, where, in a heart-rending sacrifice, Kara and Alex manage to break Elian's curse just as the clock nears midnight. But instead of disappearing, Elian is given one full day – a gift from the universe for the centuries he lost. Kara, Alex, and Elian spend it relishing the beauty of Eris City, celebrating love, life, and second chances.\\n\\nAs the day concludes, Elian fades with the setting sun, leaving Kara with a message: Every midnight, in the space between seconds, I'll think of you.\\n\\nMidnight Mirage is not just a story of urban legends and mythical love, but also about redemption, self-discovery, and the courage to chase one's dreams, even if it leads you through the very corridors of time.</td>\n",
              "    </tr>\n",
              "    <tr>\n",
              "      <th>4</th>\n",
              "      <td>The Enchanted</td>\n",
              "      <td>An enchanting fantasy adventure following a young hero's quest to rescue a kidnapped princess from a mythical realm filled with magical creatures.</td>\n",
              "      <td>Benjamin Thompson</td>\n",
              "      <td>4.8</td>\n",
              "      <td>The Enchanted is a delightful and whimsical tale that captures the imagination and brings to life a world of fantasy like never before.</td>\n",
              "      <td>A magical journey that's perfect for all ages, filled with heartwarming moments, breathtaking visuals, and a strong message of courage and friendship.</td>\n",
              "      <td>A charming blend of action, humor, and wonder, The Enchanted transports you to a realm where dreams come true and heroes are born.</td>\n",
              "      <td>In the magical kingdom of Aeloria, Princess Elara has always been admired for her grace, intelligence, and unrivaled beauty. However, her peaceful life takes a sudden turn when she is kidnapped by a dark sorcerer, Malachor, who aims to use her essence to strengthen his dark magic and gain eternal life. With Princess Elara's life hanging by a thread, the kingdom is thrown into chaos, its citizens fearful and its rulers desperate.\\n\\nAs the sun sets over the enchanted forest of Aeloria, a mysterious figure, Liam, witnesses the kidnapping. Liam is a ranger with a mysterious past; he's highly skilled but has always remained a recluse, distancing himself from the kingdom he once called home. Intrigued and touched by Elara's plight, he decides it's time to reforge his broken ties with Aeloria and embarks on a quest to save her.\\n\\nMeanwhile, in Malachor's dark lair, Princess Elara isn't the damsel in distress one would expect. Despite the grim situation, she's calculating and resolute. She learns about her captor's dark plan and realizes that her unique ability to commune with nature can manipulate the very elements of the sorcerer's dark lair. But she needs more time to unlock the full potential of her powers, and time is what she doesn't have.\\n\\nBack in Aeloria, Queen Seraphina, Elara's mother, consults the kingdom’s Oracle, who prophecies that only a partnership of true equality can defeat Malachor. Seraphina, understanding that the prophecy refers not only to physical but also intellectual partnership, sends out messengers to find Liam, whose legendary skills have not gone unnoticed by the royal family over the years.\\n\\nAs Liam fights his way through enchanted forests filled with mystical creatures, solves riddles that guard secret pathways, and defeats Malachor's minions, he slowly realizes his connection to the kingdom and its people. With each hurdle he overcomes, pieces of his own shattered past resurface, forcing him to confront the ghosts that made him a recluse in the first place.\\n\\nElara, sensing her rescue is imminent, successfully manipulates her environment to weaken Malachor's magical barriers. Just as Liam arrives, she breaks the final seal, rendering Malachor vulnerable. However, instead of leaving it to Liam to defeat the sorcerer, she takes an equal part in the battle, combining her powers with his skills to fulfill the Oracle’s prophecy.\\n\\nAs they battle Malachor, their chemistry is palpable, but their focus never wavers. The combination of Elara’s elemental magic and Liam's swordsmanship overwhelms Malachor, culminating in a climactic duel that ends with the sorcerer's defeat. However, they realize that Malachor was only a pawn in a larger cosmic game controlled by darker forces. Elara's essence and Liam's rediscovered connection to Aeloria have awakened ancient powers that were dormant for centuries.\\n\\nReturning to the kingdom as heroes, Elara and Liam realize they're bound by more than just a shared adventure; they're destined to protect Aeloria from looming darker forces. As they stand together, looking over the kingdom from the royal palace, they understand that their partnership, born from equality and mutual respect, is what the kingdom needs to face the threats that lie ahead.\\n\\nThus, \"The Enchanted\" not only offers a tale of love, valor, and mystical wonders but also redefines the norms of traditional fairy tales, presenting a princess and her rescuer as equals and partners. The stage is set for more adventures, but that is a story for another time.</td>\n",
              "    </tr>\n",
              "  </tbody>\n",
              "</table>\n",
              "</div>\n",
              "    <div class=\"colab-df-buttons\">\n",
              "\n",
              "  <div class=\"colab-df-container\">\n",
              "    <button class=\"colab-df-convert\" onclick=\"convertToInteractive('df-b20268d1-abcc-4fef-9c8f-a507eb13f78a')\"\n",
              "            title=\"Convert this dataframe to an interactive table.\"\n",
              "            style=\"display:none;\">\n",
              "\n",
              "  <svg xmlns=\"http://www.w3.org/2000/svg\" height=\"24px\" viewBox=\"0 -960 960 960\">\n",
              "    <path d=\"M120-120v-720h720v720H120Zm60-500h600v-160H180v160Zm220 220h160v-160H400v160Zm0 220h160v-160H400v160ZM180-400h160v-160H180v160Zm440 0h160v-160H620v160ZM180-180h160v-160H180v160Zm440 0h160v-160H620v160Z\"/>\n",
              "  </svg>\n",
              "    </button>\n",
              "\n",
              "  <style>\n",
              "    .colab-df-container {\n",
              "      display:flex;\n",
              "      gap: 12px;\n",
              "    }\n",
              "\n",
              "    .colab-df-convert {\n",
              "      background-color: #E8F0FE;\n",
              "      border: none;\n",
              "      border-radius: 50%;\n",
              "      cursor: pointer;\n",
              "      display: none;\n",
              "      fill: #1967D2;\n",
              "      height: 32px;\n",
              "      padding: 0 0 0 0;\n",
              "      width: 32px;\n",
              "    }\n",
              "\n",
              "    .colab-df-convert:hover {\n",
              "      background-color: #E2EBFA;\n",
              "      box-shadow: 0px 1px 2px rgba(60, 64, 67, 0.3), 0px 1px 3px 1px rgba(60, 64, 67, 0.15);\n",
              "      fill: #174EA6;\n",
              "    }\n",
              "\n",
              "    .colab-df-buttons div {\n",
              "      margin-bottom: 4px;\n",
              "    }\n",
              "\n",
              "    [theme=dark] .colab-df-convert {\n",
              "      background-color: #3B4455;\n",
              "      fill: #D2E3FC;\n",
              "    }\n",
              "\n",
              "    [theme=dark] .colab-df-convert:hover {\n",
              "      background-color: #434B5C;\n",
              "      box-shadow: 0px 1px 3px 1px rgba(0, 0, 0, 0.15);\n",
              "      filter: drop-shadow(0px 1px 2px rgba(0, 0, 0, 0.3));\n",
              "      fill: #FFFFFF;\n",
              "    }\n",
              "  </style>\n",
              "\n",
              "    <script>\n",
              "      const buttonEl =\n",
              "        document.querySelector('#df-b20268d1-abcc-4fef-9c8f-a507eb13f78a button.colab-df-convert');\n",
              "      buttonEl.style.display =\n",
              "        google.colab.kernel.accessAllowed ? 'block' : 'none';\n",
              "\n",
              "      async function convertToInteractive(key) {\n",
              "        const element = document.querySelector('#df-b20268d1-abcc-4fef-9c8f-a507eb13f78a');\n",
              "        const dataTable =\n",
              "          await google.colab.kernel.invokeFunction('convertToInteractive',\n",
              "                                                    [key], {});\n",
              "        if (!dataTable) return;\n",
              "\n",
              "        const docLinkHtml = 'Like what you see? Visit the ' +\n",
              "          '<a target=\"_blank\" href=https://colab.research.google.com/notebooks/data_table.ipynb>data table notebook</a>'\n",
              "          + ' to learn more about interactive tables.';\n",
              "        element.innerHTML = '';\n",
              "        dataTable['output_type'] = 'display_data';\n",
              "        await google.colab.output.renderOutput(dataTable, element);\n",
              "        const docLink = document.createElement('div');\n",
              "        docLink.innerHTML = docLinkHtml;\n",
              "        element.appendChild(docLink);\n",
              "      }\n",
              "    </script>\n",
              "  </div>\n",
              "\n",
              "\n",
              "<div id=\"df-880dd331-7f8a-4d9b-b126-945c4d4d1510\">\n",
              "  <button class=\"colab-df-quickchart\" onclick=\"quickchart('df-880dd331-7f8a-4d9b-b126-945c4d4d1510')\"\n",
              "            title=\"Suggest charts\"\n",
              "            style=\"display:none;\">\n",
              "\n",
              "<svg xmlns=\"http://www.w3.org/2000/svg\" height=\"24px\"viewBox=\"0 0 24 24\"\n",
              "     width=\"24px\">\n",
              "    <g>\n",
              "        <path d=\"M19 3H5c-1.1 0-2 .9-2 2v14c0 1.1.9 2 2 2h14c1.1 0 2-.9 2-2V5c0-1.1-.9-2-2-2zM9 17H7v-7h2v7zm4 0h-2V7h2v10zm4 0h-2v-4h2v4z\"/>\n",
              "    </g>\n",
              "</svg>\n",
              "  </button>\n",
              "\n",
              "<style>\n",
              "  .colab-df-quickchart {\n",
              "      --bg-color: #E8F0FE;\n",
              "      --fill-color: #1967D2;\n",
              "      --hover-bg-color: #E2EBFA;\n",
              "      --hover-fill-color: #174EA6;\n",
              "      --disabled-fill-color: #AAA;\n",
              "      --disabled-bg-color: #DDD;\n",
              "  }\n",
              "\n",
              "  [theme=dark] .colab-df-quickchart {\n",
              "      --bg-color: #3B4455;\n",
              "      --fill-color: #D2E3FC;\n",
              "      --hover-bg-color: #434B5C;\n",
              "      --hover-fill-color: #FFFFFF;\n",
              "      --disabled-bg-color: #3B4455;\n",
              "      --disabled-fill-color: #666;\n",
              "  }\n",
              "\n",
              "  .colab-df-quickchart {\n",
              "    background-color: var(--bg-color);\n",
              "    border: none;\n",
              "    border-radius: 50%;\n",
              "    cursor: pointer;\n",
              "    display: none;\n",
              "    fill: var(--fill-color);\n",
              "    height: 32px;\n",
              "    padding: 0;\n",
              "    width: 32px;\n",
              "  }\n",
              "\n",
              "  .colab-df-quickchart:hover {\n",
              "    background-color: var(--hover-bg-color);\n",
              "    box-shadow: 0 1px 2px rgba(60, 64, 67, 0.3), 0 1px 3px 1px rgba(60, 64, 67, 0.15);\n",
              "    fill: var(--button-hover-fill-color);\n",
              "  }\n",
              "\n",
              "  .colab-df-quickchart-complete:disabled,\n",
              "  .colab-df-quickchart-complete:disabled:hover {\n",
              "    background-color: var(--disabled-bg-color);\n",
              "    fill: var(--disabled-fill-color);\n",
              "    box-shadow: none;\n",
              "  }\n",
              "\n",
              "  .colab-df-spinner {\n",
              "    border: 2px solid var(--fill-color);\n",
              "    border-color: transparent;\n",
              "    border-bottom-color: var(--fill-color);\n",
              "    animation:\n",
              "      spin 1s steps(1) infinite;\n",
              "  }\n",
              "\n",
              "  @keyframes spin {\n",
              "    0% {\n",
              "      border-color: transparent;\n",
              "      border-bottom-color: var(--fill-color);\n",
              "      border-left-color: var(--fill-color);\n",
              "    }\n",
              "    20% {\n",
              "      border-color: transparent;\n",
              "      border-left-color: var(--fill-color);\n",
              "      border-top-color: var(--fill-color);\n",
              "    }\n",
              "    30% {\n",
              "      border-color: transparent;\n",
              "      border-left-color: var(--fill-color);\n",
              "      border-top-color: var(--fill-color);\n",
              "      border-right-color: var(--fill-color);\n",
              "    }\n",
              "    40% {\n",
              "      border-color: transparent;\n",
              "      border-right-color: var(--fill-color);\n",
              "      border-top-color: var(--fill-color);\n",
              "    }\n",
              "    60% {\n",
              "      border-color: transparent;\n",
              "      border-right-color: var(--fill-color);\n",
              "    }\n",
              "    80% {\n",
              "      border-color: transparent;\n",
              "      border-right-color: var(--fill-color);\n",
              "      border-bottom-color: var(--fill-color);\n",
              "    }\n",
              "    90% {\n",
              "      border-color: transparent;\n",
              "      border-bottom-color: var(--fill-color);\n",
              "    }\n",
              "  }\n",
              "</style>\n",
              "\n",
              "  <script>\n",
              "    async function quickchart(key) {\n",
              "      const quickchartButtonEl =\n",
              "        document.querySelector('#' + key + ' button');\n",
              "      quickchartButtonEl.disabled = true;  // To prevent multiple clicks.\n",
              "      quickchartButtonEl.classList.add('colab-df-spinner');\n",
              "      try {\n",
              "        const charts = await google.colab.kernel.invokeFunction(\n",
              "            'suggestCharts', [key], {});\n",
              "      } catch (error) {\n",
              "        console.error('Error during call to suggestCharts:', error);\n",
              "      }\n",
              "      quickchartButtonEl.classList.remove('colab-df-spinner');\n",
              "      quickchartButtonEl.classList.add('colab-df-quickchart-complete');\n",
              "    }\n",
              "    (() => {\n",
              "      let quickchartButtonEl =\n",
              "        document.querySelector('#df-880dd331-7f8a-4d9b-b126-945c4d4d1510 button');\n",
              "      quickchartButtonEl.style.display =\n",
              "        google.colab.kernel.accessAllowed ? 'block' : 'none';\n",
              "    })();\n",
              "  </script>\n",
              "</div>\n",
              "\n",
              "    </div>\n",
              "  </div>\n"
            ]
          },
          "metadata": {},
          "execution_count": 11
        }
      ]
    },
    {
      "cell_type": "code",
      "source": [
        "from langchain.chains.llm import LLMChain\n",
        "from langchain.prompts import PromptTemplate\n",
        "from langchain.chat_models import ChatOpenAI"
      ],
      "metadata": {
        "id": "IGSPmzAzFmzw"
      },
      "execution_count": 12,
      "outputs": []
    },
    {
      "cell_type": "code",
      "source": [
        "prompt_template = \"\"\"\n",
        "Your task is to generate a brief summary of the movie synopsis.\n",
        "The synopsis is delimited by triple backticks.\n",
        "Summarize with a focus on people who are mentioned in the content.\n",
        "Start your response with the title of the movie.\n",
        "Be concise.\n",
        "The output text should be very short using no more than 30 words.\n",
        "Your audience is 5 year olds.\n",
        "\n",
        "Synopsis: ```{synopsis}```\n",
        "\"\"\""
      ],
      "metadata": {
        "id": "mSggooLwF8HV"
      },
      "execution_count": 24,
      "outputs": []
    },
    {
      "cell_type": "code",
      "source": [
        "llm = \"gpt-3.5-turbo\"\n",
        "llm = ChatOpenAI(model=llm, temperature=0)"
      ],
      "metadata": {
        "id": "x0sRNLU3GeGU"
      },
      "execution_count": 25,
      "outputs": []
    },
    {
      "cell_type": "code",
      "source": [
        "llm_chain = LLMChain(llm=llm, prompt=PromptTemplate.from_template(prompt_template))"
      ],
      "metadata": {
        "id": "__gIV4HJGo9k"
      },
      "execution_count": 26,
      "outputs": []
    },
    {
      "cell_type": "code",
      "source": [
        "synopsis = df.iloc[1]['Synopsis']"
      ],
      "metadata": {
        "id": "q8R09AgoHNkT"
      },
      "execution_count": 27,
      "outputs": []
    },
    {
      "cell_type": "code",
      "source": [
        "ans = llm_chain.predict(synopsis=synopsis)"
      ],
      "metadata": {
        "id": "R3YxXPX9G8A5"
      },
      "execution_count": 28,
      "outputs": []
    },
    {
      "cell_type": "code",
      "source": [
        "ans"
      ],
      "metadata": {
        "colab": {
          "base_uri": "https://localhost:8080/",
          "height": 53
        },
        "id": "-4uiZTYDHgFg",
        "outputId": "f5229aa0-c85c-45b1-84f1-239a01e311c6"
      },
      "execution_count": 29,
      "outputs": [
        {
          "output_type": "execute_result",
          "data": {
            "text/plain": [
              "\"Love in Venice is a romantic drama about Isabella, a violinist, and Alexei, an architect, who discover a hidden love story in Venice's concert hall. They save the hall and find love themselves.\""
            ],
            "application/vnd.google.colaboratory.intrinsic+json": {
              "type": "string"
            }
          },
          "metadata": {},
          "execution_count": 29
        }
      ]
    },
    {
      "cell_type": "code",
      "source": [
        "# 10 year old - Love in Venice is a romantic drama about Isabella, a violinist, and Alexei, an architect, who discover a hidden love story from the past while trying to save a concert hall in Venice.\n",
        "# 5 year old - Love in Venice is a romantic drama about Isabella, a violinist, and Alexei, an architect, who discover a hidden love story in Venice's concert hall. They save the hall and find love themselves."
      ],
      "metadata": {
        "id": "8l-2AFT1H2VN"
      },
      "execution_count": null,
      "outputs": []
    }
  ]
}